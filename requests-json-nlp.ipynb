{
 "cells": [
  {
   "cell_type": "markdown",
   "metadata": {},
   "source": [
    "# Web Mining and Applied NLP (44-620)\n",
    "\n",
    "## Requests, JSON, and NLP\n",
    "\n",
    "### Student Name: Mike Abbinante\n",
    "\n",
    "Perform the tasks described in the Markdown cells below.  When you have completed the assignment make sure your code cells have all been run (and have output beneath them) and ensure you have committed and pushed ALL of your changes to your assignment repository.\n",
    "\n",
    "Make sure you have [installed spaCy and its pipeline](https://spacy.io/usage#quickstart) and [spaCyTextBlob](https://spacy.io/universe/project/spacy-textblob)\n",
    "\n",
    "Every question that requires you to write code will have a code cell underneath it; you may either write your entire solution in that cell or write it in a python file (`.py`), then import and run the appropriate code to answer the question.\n",
    "\n",
    "This assignment requires that you write additional files (either JSON or pickle files); make sure to submit those files in your repository as well."
   ]
  },
  {
   "cell_type": "code",
   "execution_count": null,
   "metadata": {},
   "outputs": [],
   "source": [
    "# Create and activate a Python virtual environment. \n",
    "# Before starting the project, try all these imports FIRST\n",
    "# Address any errors you get running this code cell \n",
    "# by installing the necessary packages into your active Python environment.\n",
    "# Try to resolve issues using your materials and the web.\n",
    "# If that doesn't work, ask for help in the discussion forums.\n",
    "# You can't complete the exercises until you import these - start early! \n",
    "# We also import json and pickle (included in the Python Standard Library).\n",
    "import json\n",
    "import pickle\n",
    "\n",
    "import requests\n",
    "import spacy\n",
    "from spacytextblob.spacytextblob import SpacyTextBlob\n",
    "\n",
    "print('All prereqs installed.')\n",
    "!pip list"
   ]
  },
  {
   "cell_type": "markdown",
   "metadata": {},
   "source": [
    "1. The following code accesses the [lyrics.ovh](https://lyricsovh.docs.apiary.io/#reference/0/lyrics-of-a-song/search) public api, searches for the lyrics of a song, and stores it in a dictionary object.  Write the resulting json to a file (either a JSON file or a pickle file; you choose). You will read in the contents of this file for future questions so we do not need to frequently access the API."
   ]
  },
  {
   "cell_type": "code",
   "execution_count": 36,
   "metadata": {},
   "outputs": [
    {
     "name": "stdout",
     "output_type": "stream",
     "text": [
      "Searching for songs by Andy Shauf...\n",
      "\n",
      "Song 1: \"Alexander All Alone\"\n",
      "Song 2: \"All Of My Love\"\n",
      "Song 3: \"All the Same\"\n",
      "\n",
      "Reached user-specified song limit (3).\n",
      "Done. Found 3 songs.\n",
      "Wrote lyrics_andyshauf_allofmylove.json.\n"
     ]
    }
   ],
   "source": [
    "import lyricsgenius\n",
    "\n",
    "# Create  Genius API\n",
    "genius = lyricsgenius.Genius('JtUijw8YGNAomnidRH7gq11zP74lZjoR3lt6LRH2D_8xhk-qcT-SYbsPa8et4zpd')\n",
    "\n",
    "# Search for artist\n",
    "artist = genius.search_artist(\"Andy Shauf\", max_songs=3, sort=\"title\")\n",
    "\n",
    "# Search for a song \n",
    "song = artist.song(\"All Of My Love\")\n",
    "\n",
    "# Save the lyrics\n",
    "song.save_lyrics()\n"
   ]
  },
  {
   "cell_type": "markdown",
   "metadata": {},
   "source": [
    "2. Read in the contents of your file.  Print the lyrics of the song (not the entire dictionary!) and use spaCyTextBlob to perform sentiment analysis on the lyrics.  Print the polarity score of the sentiment analysis.  Given that the range of the polarity score is `[-1.0,1.0]` which corresponds to how positive or negative the text in question is, do you think the lyrics have a more positive or negative connotaion?  Answer this question in a comment in your code cell."
   ]
  },
  {
   "cell_type": "code",
   "execution_count": 40,
   "metadata": {},
   "outputs": [
    {
     "name": "stdout",
     "output_type": "stream",
     "text": [
      "Polarity Score: -0.44416505300580283\n"
     ]
    }
   ],
   "source": [
    "import spacy\n",
    "from spacytextblob.spacytextblob import SpacyTextBlob\n",
    "\n",
    "nlp = spacy.load('en_core_web_sm')\n",
    "\n",
    "# Add the SpacyTextBlob component \n",
    "nlp.add_pipe('spacytextblob')\n",
    "\n",
    "# Read the contents of the lyrics file\n",
    "with open('All Of My Love.json', 'r') as file:\n",
    "    lyrics = file.read()\n",
    "\n",
    "# Perform sentiment analysis\n",
    "doc = nlp(lyrics)\n",
    "\n",
    "# Printpolarity score\n",
    "print(\"Polarity Score:\", doc._.polarity)\n",
    "\n",
    "# Answer It appears to have a more negative connotation based on the negative polarity score"
   ]
  },
  {
   "cell_type": "markdown",
   "metadata": {},
   "source": [
    "3. Write a function that takes an artist, song, and filename, accesses the lyrics.ovh api to get the song lyrics, and writes the results to the specified filename.  Test this function by getting the lyrics to any four songs of your choice and storing them in different files."
   ]
  },
  {
   "cell_type": "code",
   "execution_count": 52,
   "metadata": {},
   "outputs": [
    {
     "name": "stdout",
     "output_type": "stream",
     "text": [
      "Searching for songs by The Beatles...\n",
      "\n",
      "Song 1: \"Yesterday\"\n",
      "\n",
      "Reached user-specified song limit (1).\n",
      "Done. Found 1 songs.\n",
      "Searching for \"Hey Jude\" by The Beatles...\n",
      "Done.\n",
      "Searching for songs by The Beatles...\n",
      "\n",
      "Song 1: \"Yesterday\"\n",
      "\n",
      "Reached user-specified song limit (1).\n",
      "Done. Found 1 songs.\n",
      "Searching for \"Let It Be\" by The Beatles...\n",
      "Done.\n",
      "Searching for songs by Rush...\n",
      "\n",
      "Song 1: \"Tom Sawyer\"\n",
      "\n",
      "Reached user-specified song limit (1).\n",
      "Done. Found 1 songs.\n",
      "Searching for \"The Spirit of Radio\" by Rush...\n",
      "Done.\n",
      "Searching for songs by Iced Earth...\n",
      "\n",
      "Song 1: \"Dante’s Inferno\"\n",
      "\n",
      "Reached user-specified song limit (1).\n",
      "Done. Found 1 songs.\n",
      "Searching for \"Watching Over Me\" by Iced Earth...\n",
      "Done.\n"
     ]
    }
   ],
   "source": [
    "import lyricsgenius\n",
    "import json\n",
    "\n",
    "def get_lyrics(artist, song, filename):\n",
    " # Create a Genius API client\n",
    "    genius = lyricsgenius.Genius('Jd84xqJthaGq_UNxPwEwG8TIe-22eoVir6zHyzBX2a2-x99phcHkKq5UlcpUgJBM')\n",
    "\n",
    "# Search for the artist\n",
    "    artist_obj = genius.search_artist(artist, max_songs=1)\n",
    "\n",
    "# Search for the specific song\n",
    "    song_obj = artist_obj.song(song)\n",
    "    \n",
    "# Convert lyrics to JSON\n",
    "    lyrics_json = {'artist': artist, 'song': song, 'lyrics': song_obj.lyrics}\n",
    "\n",
    "# Save the lyrics as a JSON file\n",
    "    with open(filename, 'w') as file:\n",
    "        json.dump(lyrics_json, file)\n",
    "\n",
    "# Test the function with different songs and files\n",
    "get_lyrics(\"The Beatles\", \"Hey Jude\", \"hey_jude_lyrics.json\")\n",
    "get_lyrics(\"The Beatles\", \"Let It Be\", \"let_it_be_lyrics.json\")\n",
    "get_lyrics(\"Rush\", \"The Spirit of Radio\", \"the_spirit_of_radio_lyrics.json\")\n",
    "get_lyrics(\"Iced Earth\", \"Watching Over Me\", \"watching_over_me_lyrics.json\")\n"
   ]
  },
  {
   "cell_type": "markdown",
   "metadata": {},
   "source": [
    "4. Write a function that takes the name of a file that contains song lyrics, loads the file, performs sentiment analysis, and returns the polarity score.  Use this function to print the polarity scores (with the name of the song) of the three files you created in question 3.  Does the reported polarity match your understanding of the song's lyrics? Why or why not do you think that might be?  Answer the questions in either a comment in the code cell or a markdown cell under the code cell."
   ]
  },
  {
   "cell_type": "code",
   "execution_count": 53,
   "metadata": {},
   "outputs": [
    {
     "name": "stdout",
     "output_type": "stream",
     "text": [
      "Polarity Score for 'Hey Jude': 0.0502777777777778\n",
      "Polarity Score for 'Let It Be': 0.09714285714285714\n",
      "Polarity Score for 'The Spirit of Radio': 0.27812500000000007\n",
      "Polarity Score for 'Watching Over Me': 0.15694444444444444\n"
     ]
    }
   ],
   "source": [
    "import spacy\n",
    "from spacytextblob.spacytextblob import SpacyTextBlob\n",
    "import json\n",
    "\n",
    "def analyze_sentiment(filename):\n",
    "    nlp = spacy.load('en_core_web_sm')\n",
    "\n",
    "    #SpacyTextBlob\n",
    "    nlp.add_pipe('spacytextblob')\n",
    "\n",
    "    # Read the contents\n",
    "    with open(filename, 'r') as file:\n",
    "        lyrics_json = json.load(file)\n",
    "\n",
    "    # Extract the lyrics\n",
    "    lyrics = lyrics_json['lyrics']\n",
    "\n",
    "    # Perform sentiment analysis\n",
    "    doc = nlp(lyrics)\n",
    "\n",
    "    # Return polarity score\n",
    "    return doc._.polarity\n",
    "\n",
    "# Perform sentiment analysis\n",
    "polarity_score1 = analyze_sentiment(\"hey_jude_lyrics.json\")\n",
    "polarity_score2 = analyze_sentiment(\"let_it_be_lyrics.json\")\n",
    "polarity_score3 = analyze_sentiment(\"the_spirit_of_radio_lyrics.json\")\n",
    "polarity_score4 = analyze_sentiment(\"watching_over_me_lyrics.json\")\n",
    "\n",
    "# Print the polarity scores\n",
    "print(\"Polarity Score for 'Hey Jude':\", polarity_score1)\n",
    "print(\"Polarity Score for 'Let It Be':\", polarity_score2)\n",
    "print(\"Polarity Score for 'The Spirit of Radio':\", polarity_score3)\n",
    "print(\"Polarity Score for 'Watching Over Me':\", polarity_score4)\n",
    "\n"
   ]
  },
  {
   "cell_type": "markdown",
   "metadata": {},
   "source": [
    "Answer: I think they are all fairly neutral songs, so this analysis makes sense to me."
   ]
  }
 ],
 "metadata": {
  "kernelspec": {
   "display_name": "Python 3 (ipykernel)",
   "language": "python",
   "name": "python3"
  },
  "language_info": {
   "codemirror_mode": {
    "name": "ipython",
    "version": 3
   },
   "file_extension": ".py",
   "mimetype": "text/x-python",
   "name": "python",
   "nbconvert_exporter": "python",
   "pygments_lexer": "ipython3",
   "version": "3.9.12"
  }
 },
 "nbformat": 4,
 "nbformat_minor": 4
}
